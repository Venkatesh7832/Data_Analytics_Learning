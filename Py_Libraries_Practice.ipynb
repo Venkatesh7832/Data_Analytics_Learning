{
  "nbformat": 4,
  "nbformat_minor": 0,
  "metadata": {
    "colab": {
      "provenance": [],
      "authorship_tag": "ABX9TyNFzMvfSzF/Rcow/V9BrtTu",
      "include_colab_link": true
    },
    "kernelspec": {
      "name": "python3",
      "display_name": "Python 3"
    },
    "language_info": {
      "name": "python"
    }
  },
  "cells": [
    {
      "cell_type": "markdown",
      "metadata": {
        "id": "view-in-github",
        "colab_type": "text"
      },
      "source": [
        "<a href=\"https://colab.research.google.com/github/Venkatesh7832/Data_Analytics_Learning/blob/main/Py_Libraries_Practice.ipynb\" target=\"_parent\"><img src=\"https://colab.research.google.com/assets/colab-badge.svg\" alt=\"Open In Colab\"/></a>"
      ]
    },
    {
      "cell_type": "code",
      "execution_count": 3,
      "metadata": {
        "id": "EbWNMGSOiFwq"
      },
      "outputs": [],
      "source": [
        "import numpy as np"
      ]
    },
    {
      "cell_type": "code",
      "source": [
        "a = np.array([1,2,3,4,5,6,7])\n",
        "b = np.array([[1,2,3],[5,6,7]])\n",
        "print(a)\n",
        "print(b)\n",
        "print(a.size)\n",
        "print(b.size)\n",
        "print(b.dtype)\n",
        "print(a.shape)\n",
        "print(b.shape)\n",
        "print(a.ndim)\n",
        "print(b.ndim)\n",
        "print(b.transpose())"
      ],
      "metadata": {
        "colab": {
          "base_uri": "https://localhost:8080/"
        },
        "id": "FYX83rFuiU7f",
        "outputId": "61e0ea70-ecbb-4513-f81d-291d23e7efd5"
      },
      "execution_count": 26,
      "outputs": [
        {
          "output_type": "stream",
          "name": "stdout",
          "text": [
            "[1 2 3 4 5 6 7]\n",
            "[[1 2 3]\n",
            " [5 6 7]]\n",
            "7\n",
            "6\n",
            "int64\n",
            "(7,)\n",
            "(2, 3)\n",
            "1\n",
            "2\n",
            "[[1 5]\n",
            " [2 6]\n",
            " [3 7]]\n"
          ]
        }
      ]
    },
    {
      "cell_type": "code",
      "source": [
        "x = np.ones(9,dtype=int)\n",
        "print(x)\n",
        "\n",
        "ar = np.arange(1,20,3)\n",
        "print(ar)\n",
        "z = np.zeros(6,dtype=int)\n",
        "print(z)\n",
        "# reshapes\n",
        "re = np.reshape(x,(3,3))\n",
        "print(re)\n",
        "# opposite of reshape, its a copy\n",
        "flt = re.flatten()\n",
        "print(flt)\n",
        "# converts 1 row and many cols and modification effects data\n",
        "rv = re.ravel()\n",
        "print(rv)"
      ],
      "metadata": {
        "colab": {
          "base_uri": "https://localhost:8080/"
        },
        "id": "6UFbU6zxkTnv",
        "outputId": "cd28f7ff-962a-4319-90a8-8a1c1bf8e201"
      },
      "execution_count": 44,
      "outputs": [
        {
          "output_type": "stream",
          "name": "stdout",
          "text": [
            "[1 1 1 1 1 1 1 1 1]\n",
            "[ 1  4  7 10 13 16 19]\n",
            "[0 0 0 0 0 0]\n",
            "[[1 1 1]\n",
            " [1 1 1]\n",
            " [1 1 1]]\n",
            "[1 1 1 1 1 1 1 1 1]\n",
            "[1 1 1 1 1 1 1 1 1]\n"
          ]
        }
      ]
    },
    {
      "cell_type": "code",
      "source": [
        "# Array slicing\n",
        "ar = np.arange(1,30,2)\n",
        "print(ar)\n",
        "ar = ar.reshape((3,5))\n",
        "print(ar)\n",
        "# slicing\n",
        "print(\"Slicing:\")\n",
        "print(ar[0])\n",
        "print(ar[0,3])\n",
        "print(ar[2:])\n",
        "print(ar[1:4])\n",
        "print(ar[:,:])\n",
        "print(ar[:,2:5])"
      ],
      "metadata": {
        "colab": {
          "base_uri": "https://localhost:8080/"
        },
        "id": "7eP0CG6Pk0jD",
        "outputId": "972c3263-545f-4833-9399-a15dc678c8b6"
      },
      "execution_count": 55,
      "outputs": [
        {
          "output_type": "stream",
          "name": "stdout",
          "text": [
            "[ 1  3  5  7  9 11 13 15 17 19 21 23 25 27 29]\n",
            "[[ 1  3  5  7  9]\n",
            " [11 13 15 17 19]\n",
            " [21 23 25 27 29]]\n",
            "Slicing:\n",
            "[1 3 5 7 9]\n",
            "7\n",
            "[[21 23 25 27 29]]\n",
            "[[11 13 15 17 19]\n",
            " [21 23 25 27 29]]\n",
            "[[ 1  3  5  7  9]\n",
            " [11 13 15 17 19]\n",
            " [21 23 25 27 29]]\n",
            "[[ 5  7  9]\n",
            " [15 17 19]\n",
            " [25 27 29]]\n"
          ]
        }
      ]
    },
    {
      "cell_type": "code",
      "source": [
        "# Mathematical Operations\n",
        "ma = np.arange(0,20).reshape((4,5))\n",
        "mb = np.arange(31,51).reshape((4,5))\n",
        "print(ma)\n",
        "print(mb)\n",
        "print(np.add(ma,mb))\n",
        "print(np.subtract(ma,mb))\n",
        "print(np.multiply(ma,mb))\n",
        "print(np.divide(ma,mb))\n",
        "print(\"Extra:\")\n",
        "print(np.mean(ma))\n",
        "print(np.median(ma))\n",
        "print(np.std(ma))\n",
        "print(np.exp(ma))\n",
        "print(np.log(mb))\n",
        "print(np.sqrt(ma))\n",
        "print(np.mod(ma,mb))\n",
        "print(np.power(ma,mb))\n",
        "print(\"sum of rows & cols\")\n",
        "print(np.sum(ma,axis=0))\n",
        "print(np.sum(ma,axis=1))"
      ],
      "metadata": {
        "colab": {
          "base_uri": "https://localhost:8080/"
        },
        "id": "gU9zGXTfnOLf",
        "outputId": "f17732af-39eb-4dd0-b927-0f2e651c09d9"
      },
      "execution_count": 67,
      "outputs": [
        {
          "output_type": "stream",
          "name": "stdout",
          "text": [
            "[[ 0  1  2  3  4]\n",
            " [ 5  6  7  8  9]\n",
            " [10 11 12 13 14]\n",
            " [15 16 17 18 19]]\n",
            "[[31 32 33 34 35]\n",
            " [36 37 38 39 40]\n",
            " [41 42 43 44 45]\n",
            " [46 47 48 49 50]]\n",
            "[[31 33 35 37 39]\n",
            " [41 43 45 47 49]\n",
            " [51 53 55 57 59]\n",
            " [61 63 65 67 69]]\n",
            "[[-31 -31 -31 -31 -31]\n",
            " [-31 -31 -31 -31 -31]\n",
            " [-31 -31 -31 -31 -31]\n",
            " [-31 -31 -31 -31 -31]]\n",
            "[[  0  32  66 102 140]\n",
            " [180 222 266 312 360]\n",
            " [410 462 516 572 630]\n",
            " [690 752 816 882 950]]\n",
            "[[0.         0.03125    0.06060606 0.08823529 0.11428571]\n",
            " [0.13888889 0.16216216 0.18421053 0.20512821 0.225     ]\n",
            " [0.24390244 0.26190476 0.27906977 0.29545455 0.31111111]\n",
            " [0.32608696 0.34042553 0.35416667 0.36734694 0.38      ]]\n",
            "Extra:\n",
            "9.5\n",
            "9.5\n",
            "5.766281297335398\n",
            "[[1.00000000e+00 2.71828183e+00 7.38905610e+00 2.00855369e+01\n",
            "  5.45981500e+01]\n",
            " [1.48413159e+02 4.03428793e+02 1.09663316e+03 2.98095799e+03\n",
            "  8.10308393e+03]\n",
            " [2.20264658e+04 5.98741417e+04 1.62754791e+05 4.42413392e+05\n",
            "  1.20260428e+06]\n",
            " [3.26901737e+06 8.88611052e+06 2.41549528e+07 6.56599691e+07\n",
            "  1.78482301e+08]]\n",
            "[[3.4339872  3.4657359  3.49650756 3.52636052 3.55534806]\n",
            " [3.58351894 3.61091791 3.63758616 3.66356165 3.68887945]\n",
            " [3.71357207 3.73766962 3.76120012 3.78418963 3.80666249]\n",
            " [3.8286414  3.8501476  3.87120101 3.8918203  3.91202301]]\n",
            "[[0.         1.         1.41421356 1.73205081 2.        ]\n",
            " [2.23606798 2.44948974 2.64575131 2.82842712 3.        ]\n",
            " [3.16227766 3.31662479 3.46410162 3.60555128 3.74165739]\n",
            " [3.87298335 4.         4.12310563 4.24264069 4.35889894]]\n",
            "[[ 0  1  2  3  4]\n",
            " [ 5  6  7  8  9]\n",
            " [10 11 12 13 14]\n",
            " [15 16 17 18 19]]\n",
            "[[                   0                    1           8589934592\n",
            "     16677181699666569                    0]\n",
            " [-1748363738790708751  6244960376270618624  4767239791123969681\n",
            "                     0  4389419161382147137]\n",
            " [ 4870020673419870208  5556786726659562073                    0\n",
            "  -5632238291267214799 -6432019877187289088]\n",
            " [ 2777143460621207585                    0   410158792346528513\n",
            "  -5831598567491371008  8159299509337021993]]\n",
            "sum of rows & cols\n",
            "[30 34 38 42 46]\n",
            "[10 35 60 85]\n"
          ]
        }
      ]
    },
    {
      "cell_type": "code",
      "source": [
        "# Trignometric Functions\n",
        "pi = np.pi\n",
        "print(np.sin(pi/2)) # 1\n",
        "print(np.cos(pi/2)) # 0\n",
        "print(np.tan(pi/2)) # inf\n",
        "print(np.arcsin(1))\n",
        "print(np.arccos(1))\n",
        "print(np.arctan(1))\n",
        "print(np.sin(pi/4)) # pi/4 = 45`\n",
        "print(np.cos(pi/4))\n",
        "print(np.tan(pi/4))"
      ],
      "metadata": {
        "colab": {
          "base_uri": "https://localhost:8080/"
        },
        "id": "R22rmiqSocSW",
        "outputId": "6d825ad6-1569-4469-bf31-c8b6a9365ad3"
      },
      "execution_count": 69,
      "outputs": [
        {
          "output_type": "stream",
          "name": "stdout",
          "text": [
            "1.0\n",
            "6.123233995736766e-17\n",
            "1.633123935319537e+16\n",
            "1.5707963267948966\n",
            "0.0\n",
            "0.7853981633974483\n",
            "0.7071067811865475\n",
            "0.7071067811865476\n",
            "0.9999999999999999\n"
          ]
        }
      ]
    },
    {
      "cell_type": "code",
      "source": [
        "# Curves\n",
        "import matplotlib.pyplot as plt\n",
        "x = np.arange(0,10)\n",
        "y = np.arange(10,110,10)\n",
        "plt.figure(figsize=(6,6))\n",
        "plt.plot(x,y,'r-')\n",
        "plt.show()"
      ],
      "metadata": {
        "colab": {
          "base_uri": "https://localhost:8080/",
          "height": 522
        },
        "id": "MSQ1bvdarLwp",
        "outputId": "d15621af-23be-47d4-a441-136a68c80ba8"
      },
      "execution_count": 74,
      "outputs": [
        {
          "output_type": "display_data",
          "data": {
            "text/plain": [
              "<Figure size 600x600 with 1 Axes>"
            ],
            "image/png": "[encoded data removed]"
          },
          "metadata": {}
        }
      ]
    },
    {
      "cell_type": "code",
      "source": [
        "# sin curve\n",
        "x = np.arange(0,10,0.1)\n",
        "y = np.sin(x)\n",
        "plt.figure(figsize=(6,6))\n",
        "plt.plot(x,y,'b-')\n",
        "plt.show()"
      ],
      "metadata": {
        "colab": {
          "base_uri": "https://localhost:8080/",
          "height": 522
        },
        "id": "LNSWQWZcrwP1",
        "outputId": "8fe7214e-12af-49f0-fd5f-7cbcdd72754d"
      },
      "execution_count": 76,
      "outputs": [
        {
          "output_type": "display_data",
          "data": {
            "text/plain": [
              "<Figure size 600x600 with 1 Axes>"
            ],
            "image/png": "[encoded data removed]"
          },
          "metadata": {}
        }
      ]
    },
    {
      "cell_type": "code",
      "source": [
        "# cos Curve\n",
        "x = np.arange(0,10,0.1)\n",
        "y = np.cos(x)\n",
        "plt.figure(figsize=(6,6))\n",
        "plt.plot(x,y,'b-')\n",
        "plt.show()"
      ],
      "metadata": {
        "colab": {
          "base_uri": "https://localhost:8080/",
          "height": 522
        },
        "id": "Swuxb3mqsYpt",
        "outputId": "a22cb3b1-c99f-408a-c74b-ad08f11e59f7"
      },
      "execution_count": 79,
      "outputs": [
        {
          "output_type": "display_data",
          "data": {
            "text/plain": [
              "<Figure size 600x600 with 1 Axes>"
            ],
            "image/png": "[encoded data removed]"
          },
          "metadata": {}
        }
      ]
    },
    {
      "cell_type": "code",
      "source": [
        "# Random operations\n",
        "print(np.random.random(3))\n",
        "print(np.random.random((2,2)))\n",
        "print(np.random.randint(1,10,5))\n",
        "print(np.random.rand(2,2)) # only +ve values\n",
        "print(np.random.randn(2,2)) # both -ve and +ve values\n",
        "print(np.random.choice([1,2,3,4,5],5))"
      ],
      "metadata": {
        "colab": {
          "base_uri": "https://localhost:8080/"
        },
        "id": "3z3pCl8dsofV",
        "outputId": "cfef40c4-0277-4574-9228-0f9d50327130"
      },
      "execution_count": 87,
      "outputs": [
        {
          "output_type": "stream",
          "name": "stdout",
          "text": [
            "[0.02527439 0.01976268 0.9067815 ]\n",
            "[[0.78194991 0.62313289]\n",
            " [0.96522014 0.8478443 ]]\n",
            "[6 1 1 7 7]\n",
            "[[0.52389264 0.40390189]\n",
            " [0.35228683 0.48332363]]\n",
            "[[-0.31671085  0.16331198]\n",
            " [-0.49214255 -0.64448155]]\n",
            "[2 4 4 3 4]\n"
          ]
        }
      ]
    },
    {
      "cell_type": "code",
      "source": [
        "# String operations\n",
        "s1 = input()\n",
        "s2 = input()\n",
        "print(np.char.add(s1,s2))\n",
        "print(np.char.lower(s1))\n",
        "print(np.char.upper(s1))\n",
        "print(np.char.split(s1))\n",
        "s3 = input()\n",
        "print(np.char.splitlines(s3))\n",
        "print(np.char.replace(s2,'virat kohli','venkatesh korra'))\n",
        "print(np.char.count(s1,'a'))\n",
        "print(np.char.find(s1,'a'))\n",
        "print(np.char.equal(s1,s2))\n",
        "print(np.char.center(s1,80,'*'))\n",
        "print(np.char.capitalize(s1))"
      ],
      "metadata": {
        "colab": {
          "base_uri": "https://localhost:8080/"
        },
        "id": "x9R-5Xbms2AY",
        "outputId": "b3e03a03-0fd4-4d89-8bd4-24cd22a10216"
      },
      "execution_count": 93,
      "outputs": [
        {
          "output_type": "stream",
          "name": "stdout",
          "text": [
            "hara hara mahadev\n",
            "virat kohli is goat cricket player\n",
            "hara hara mahadevvirat kohli is goat cricket player\n",
            "hara hara mahadev\n",
            "HARA HARA MAHADEV\n",
            "['hara', 'hara', 'mahadev']\n",
            "Numpy practice \\n Completed\n",
            "['Numpy practice \\\\n Completed']\n",
            "venkatesh korra is goat cricket player\n",
            "6\n",
            "1\n",
            "False\n",
            "*******************************hara hara mahadev********************************\n",
            "Hara hara mahadev\n"
          ]
        }
      ]
    },
    {
      "cell_type": "code",
      "source": [
        "# Pandas\n",
        "import pandas as pd\n",
        "lst = [1,2,3,4,5]\n",
        "print(lst)\n",
        "series = pd.Series(lst)\n",
        "print(series)\n",
        "print(series[3])\n",
        "s = pd.Series(lst,index=['a','b','c','d','e'],name='Numbers')\n",
        "print(s)\n",
        "print(s['c'])\n",
        "scalar = pd.Series(0.5,index = [1,2,3,4])\n",
        "print(scalar)"
      ],
      "metadata": {
        "colab": {
          "base_uri": "https://localhost:8080/"
        },
        "id": "3ov9iNF9toTZ",
        "outputId": "4cf419e1-5893-459b-efcf-60a7aadf971d"
      },
      "execution_count": 101,
      "outputs": [
        {
          "output_type": "stream",
          "name": "stdout",
          "text": [
            "[1, 2, 3, 4, 5]\n",
            "0    1\n",
            "1    2\n",
            "2    3\n",
            "3    4\n",
            "4    5\n",
            "dtype: int64\n",
            "4\n",
            "a    1\n",
            "b    2\n",
            "c    3\n",
            "d    4\n",
            "e    5\n",
            "Name: Numbers, dtype: int64\n",
            "3\n",
            "1    0.5\n",
            "2    0.5\n",
            "3    0.5\n",
            "4    0.5\n",
            "dtype: float64\n"
          ]
        }
      ]
    },
    {
      "cell_type": "code",
      "source": [
        "# Dictionaries\n",
        "dict_series = pd.Series({'a':1,'b':2,'c':7})\n",
        "print(dict_series)\n",
        "print(dict_series[2])\n",
        "print(dict_series[1:3])\n",
        "dict_series = pd.Series({'a':[1,2,3,4,5],'b':[2,4,5,6,8,9,0],'c':[6,7,8,9,23]})\n",
        "print(dict_series)\n"
      ],
      "metadata": {
        "colab": {
          "base_uri": "https://localhost:8080/"
        },
        "id": "H-RiIf6JwBuj",
        "outputId": "92189446-9a6e-4d27-beb2-9513eea0eea1"
      },
      "execution_count": 104,
      "outputs": [
        {
          "output_type": "stream",
          "name": "stdout",
          "text": [
            "a    1\n",
            "b    2\n",
            "c    7\n",
            "dtype: int64\n",
            "7\n",
            "b    2\n",
            "c    7\n",
            "dtype: int64\n",
            "a          [1, 2, 3, 4, 5]\n",
            "b    [2, 4, 5, 6, 8, 9, 0]\n",
            "c         [6, 7, 8, 9, 23]\n",
            "dtype: object\n"
          ]
        },
        {
          "output_type": "stream",
          "name": "stderr",
          "text": [
            "/tmp/ipython-input-1391654171.py:4: FutureWarning: Series.__getitem__ treating keys as positions is deprecated. In a future version, integer keys will always be treated as labels (consistent with DataFrame behavior). To access a value by position, use `ser.iloc[pos]`\n",
            "  print(dict_series[2])\n"
          ]
        }
      ]
    },
    {
      "cell_type": "code",
      "source": [],
      "metadata": {
        "id": "M9BD6_B9xTl0"
      },
      "execution_count": null,
      "outputs": []
    }
  ]
}